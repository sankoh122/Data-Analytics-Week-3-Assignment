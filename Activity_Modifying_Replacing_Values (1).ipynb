{
 "cells": [
  {
   "cell_type": "markdown",
   "metadata": {
    "collapsed": false,
    "deletable": false,
    "editable": false,
    "jupyter": {
     "outputs_hidden": false
    },
    "nbgrader": {
     "cell_type": "markdown",
     "checksum": "87cc346b31e165dd2217622af3952965",
     "grade": false,
     "grade_id": "cell-b7f5cb6db0045a8d",
     "locked": true,
     "schema_version": 3,
     "solution": false,
     "task": false
    }
   },
   "source": [
    "# Activity: Modifying & Replacing Values\n",
    "\n",
    "## Introduction\n",
    "\n",
    "In this activity you will practice modifying and replacing values in a DataFrame using the various method that Pandas has to offer.\n",
    "This activity will cover the following, not necessarily in this order:\n",
    "- Checking for anomalous values\n",
    "- Using `.isnumeric()`\n",
    "- Using `min()` and `max()` methods\n",
    "- Using `.loc[]` to replace values\n",
    "- Using `isnull()` and `notnull()` methods\n"
   ]
  },
  {
   "cell_type": "code",
   "execution_count": 1,
   "metadata": {},
   "outputs": [],
   "source": [
    "url=\"https://raw.githubusercontent.com/ddaeducation/datanalytics/main/employee_data.csv\""
   ]
  },
  {
   "cell_type": "markdown",
   "metadata": {
    "collapsed": false,
    "deletable": false,
    "editable": false,
    "jupyter": {
     "outputs_hidden": false
    },
    "nbgrader": {
     "cell_type": "markdown",
     "checksum": "2a2f05d6fd224b8034b03a752c6610c7",
     "grade": false,
     "grade_id": "cell-bd323aa5d61fc98f",
     "locked": true,
     "schema_version": 3,
     "solution": false,
     "task": false
    }
   },
   "source": [
    "#### Question 1\n",
    "\n",
    "Create a `DataFrame` called `df` from the given CSV file `employee_data.csv`, and then create a mask called `valid_names` that checks the `Name` column for any non-numeric values.\n"
   ]
  },
  {
   "cell_type": "code",
   "execution_count": 4,
   "metadata": {
    "ExecuteTime": {
     "end_time": "2023-09-20T15:54:04.591541900Z",
     "start_time": "2023-09-20T15:54:04.560932600Z"
    },
    "collapsed": false,
    "deletable": false,
    "jupyter": {
     "outputs_hidden": false
    },
    "nbgrader": {
     "cell_type": "code",
     "checksum": "f7984f28993b79d616a525d1dc316dd5",
     "grade": false,
     "grade_id": "cell-36ca21c2f927b27e",
     "locked": false,
     "schema_version": 3,
     "solution": true,
     "task": false
    }
   },
   "outputs": [
    {
     "name": "stdout",
     "output_type": "stream",
     "text": [
      "               Name  Years of Employment  Weeks of Vacation  Position\n",
      "0  Jennifer Jackson                    9                4.0  Engineer\n",
      "1   Michael Johnson                    9                6.0   Analyst\n",
      "2        Robert Lee                   13                3.0  Engineer\n",
      "3       Linda Jones                    3                6.0   Manager\n",
      "4      Karen Thomas                   14                2.0    Intern\n"
     ]
    }
   ],
   "source": [
    "import pandas as pd\n",
    "df=pd.read_csv(\"employee_data.csv\")\n",
    "print(df.head())\n",
    " "
   ]
  },
  {
   "cell_type": "code",
   "execution_count": 6,
   "metadata": {},
   "outputs": [
    {
     "data": {
      "text/plain": [
       "<bound method NDFrame.head of                 Name  Years of Employment  Weeks of Vacation  Position\n",
       "0   Jennifer Jackson                    9                4.0  Engineer\n",
       "1    Michael Johnson                    9                6.0   Analyst\n",
       "2         Robert Lee                   13                3.0  Engineer\n",
       "3        Linda Jones                    3                6.0   Manager\n",
       "4       Karen Thomas                   14                2.0    Intern\n",
       "..               ...                  ...                ...       ...\n",
       "78                 1                    0               49.0   Unknown\n",
       "79                 1                    0               47.0   Unknown\n",
       "80                 1                   -5               46.0   Unknown\n",
       "81                 1                   -4               52.0   Unknown\n",
       "82                 1                    0               48.0   Unknown\n",
       "\n",
       "[83 rows x 4 columns]>"
      ]
     },
     "execution_count": 6,
     "metadata": {},
     "output_type": "execute_result"
    }
   ],
   "source": [
    "valid_names = df['Name'].apply(lambda x: not str(x).replace('.', '', 1).isdigit())\n",
    "df.head"
   ]
  },
  {
   "cell_type": "code",
   "execution_count": null,
   "metadata": {
    "ExecuteTime": {
     "end_time": "2023-09-20T15:54:04.592936400Z",
     "start_time": "2023-09-20T15:54:04.566451Z"
    },
    "collapsed": false,
    "deletable": false,
    "editable": false,
    "jupyter": {
     "outputs_hidden": false
    },
    "nbgrader": {
     "cell_type": "code",
     "checksum": "279b152cccb8125fa75e281fcbaf9842",
     "grade": true,
     "grade_id": "cell-53f5cfdc632deeaa",
     "locked": true,
     "points": 1,
     "schema_version": 3,
     "solution": false,
     "task": false
    }
   },
   "outputs": [],
   "source": [
    "# Question 1 Grading Checks\n",
    "\n",
    "assert isinstance(df, pd.DataFrame), 'Have you created a DataFrame named df?'\n",
    "assert isinstance(valid_names, pd.Series), 'Have you created a Series named valid_names?'\n"
   ]
  },
  {
   "cell_type": "markdown",
   "metadata": {
    "collapsed": false,
    "deletable": false,
    "editable": false,
    "jupyter": {
     "outputs_hidden": false
    },
    "nbgrader": {
     "cell_type": "markdown",
     "checksum": "f3028342475fd5e647122a3c97e4e58d",
     "grade": false,
     "grade_id": "cell-559be664a8c62460",
     "locked": true,
     "schema_version": 3,
     "solution": false,
     "task": false
    }
   },
   "source": [
    "#### Question 2\n",
    "\n",
    "Using the original `DataFrame` `df`, create a mask called `unknown_position` that checks the `Position` column for any values that are equal to the string `Unknown`. Then, replace all such values with `Engineer`.\n"
   ]
  },
  {
   "cell_type": "code",
   "execution_count": 8,
   "metadata": {
    "ExecuteTime": {
     "end_time": "2023-09-20T15:54:04.603293400Z",
     "start_time": "2023-09-20T15:54:04.576827900Z"
    },
    "collapsed": false,
    "deletable": false,
    "jupyter": {
     "outputs_hidden": false
    },
    "nbgrader": {
     "cell_type": "code",
     "checksum": "1892ef46e95321bd842db096ea6bf8c0",
     "grade": false,
     "grade_id": "cell-91b265a8b1032f10",
     "locked": false,
     "schema_version": 3,
     "solution": true,
     "task": false
    }
   },
   "outputs": [],
   "source": [
    "unknown_position = df['Position'] == 'Unknown'\n",
    "df.loc[unknown_position, 'Position'] = 'Engineer'\n",
    "\n"
   ]
  },
  {
   "cell_type": "code",
   "execution_count": null,
   "metadata": {
    "ExecuteTime": {
     "end_time": "2023-09-20T15:54:04.626590Z",
     "start_time": "2023-09-20T15:54:04.580137400Z"
    },
    "collapsed": false,
    "deletable": false,
    "editable": false,
    "jupyter": {
     "outputs_hidden": false
    },
    "nbgrader": {
     "cell_type": "code",
     "checksum": "2da2c19ae87897809730987c123f1dd2",
     "grade": true,
     "grade_id": "cell-8a77d3a0c913b652",
     "locked": true,
     "points": 1,
     "schema_version": 3,
     "solution": false,
     "task": false
    }
   },
   "outputs": [],
   "source": [
    "# Question 2 Grading Checks\n",
    "\n",
    "assert isinstance(unknown_position, pd.Series), 'Have you created a Series named unknown_position?'\n"
   ]
  },
  {
   "cell_type": "markdown",
   "metadata": {
    "collapsed": false,
    "deletable": false,
    "editable": false,
    "jupyter": {
     "outputs_hidden": false
    },
    "nbgrader": {
     "cell_type": "markdown",
     "checksum": "6788545de461cb2797ba588b6b4d5eb0",
     "grade": false,
     "grade_id": "cell-5274489e35c22921",
     "locked": true,
     "schema_version": 3,
     "solution": false,
     "task": false
    }
   },
   "source": [
    "#### Question 3\n",
    "\n",
    "Using the original `DataFrame` `df`, create a mask called `invalid_vacation` that checks the `Weeks of Vacation` column for any values that are null or missing. Then, use that mask to assign the value 0 to them.\n"
   ]
  },
  {
   "cell_type": "code",
   "execution_count": 11,
   "metadata": {
    "ExecuteTime": {
     "end_time": "2023-09-20T15:54:04.627590500Z",
     "start_time": "2023-09-20T15:54:04.591541900Z"
    },
    "collapsed": false,
    "deletable": false,
    "jupyter": {
     "outputs_hidden": false
    },
    "nbgrader": {
     "cell_type": "code",
     "checksum": "a67ddbc66d59bd2dcbec51d0caee02b8",
     "grade": false,
     "grade_id": "cell-130ad98966b0ae41",
     "locked": false,
     "schema_version": 3,
     "solution": true,
     "task": false
    }
   },
   "outputs": [
    {
     "name": "stdout",
     "output_type": "stream",
     "text": [
      "Empty DataFrame\n",
      "Columns: [Name, Years of Employment, Weeks of Vacation, Position]\n",
      "Index: []\n"
     ]
    }
   ],
   "source": [
    "invalid_vacation = df['Weeks of Vacation'].isna()\n",
    "df.loc[invalid_vacation, 'Weeks of Vacation'] = 0\n",
    "print(df[invalid_vacation].head())"
   ]
  },
  {
   "cell_type": "code",
   "execution_count": null,
   "metadata": {
    "ExecuteTime": {
     "end_time": "2023-09-20T15:54:04.627590500Z",
     "start_time": "2023-09-20T15:54:04.594942800Z"
    },
    "collapsed": false,
    "deletable": false,
    "editable": false,
    "jupyter": {
     "outputs_hidden": false
    },
    "nbgrader": {
     "cell_type": "code",
     "checksum": "7ca4d0330fd1de9b4feba80bf71b6e7b",
     "grade": true,
     "grade_id": "cell-1093efc01f6c679a",
     "locked": true,
     "points": 1,
     "schema_version": 3,
     "solution": false,
     "task": false
    }
   },
   "outputs": [],
   "source": [
    "# Question 3 Grading Checks\n",
    "\n",
    "assert isinstance(invalid_vacation, pd.Series), 'Have you created a Series named invalid_vacation?'\n",
    "\n"
   ]
  }
 ],
 "metadata": {
  "kernelspec": {
   "display_name": "anaconda-panel-2023.05-py310",
   "language": "python",
   "name": "conda-env-anaconda-panel-2023.05-py310-py"
  },
  "language_info": {
   "codemirror_mode": {
    "name": "ipython",
    "version": 3
   },
   "file_extension": ".py",
   "mimetype": "text/x-python",
   "name": "python",
   "nbconvert_exporter": "python",
   "pygments_lexer": "ipython3",
   "version": "3.11.5"
  }
 },
 "nbformat": 4,
 "nbformat_minor": 4
}
